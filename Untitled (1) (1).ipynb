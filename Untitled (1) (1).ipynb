{
 "cells": [
  {
   "cell_type": "code",
   "execution_count": 5,
   "metadata": {},
   "outputs": [
    {
     "name": "stdout",
     "output_type": "stream",
     "text": [
      "Microsoft Visual C++ Redistributable is not installed, this may lead to the DLL load failure.\n",
      "                 It can be downloaded at https://aka.ms/vs/16/release/vc_redist.x64.exe\n"
     ]
    }
   ],
   "source": [
    "# Import necessary module for quantum simulator and data visualizeation\n",
    "from qiskit import QuantumCircuit, Aer, execute\n",
    "import matplotlib.pyplot as plt\n",
    "from math import pi\n",
    "import numpy as np\n",
    "%matplotlib inline"
   ]
  },
  {
   "cell_type": "code",
   "execution_count": 6,
   "metadata": {},
   "outputs": [],
   "source": [
    "# This function generate ansatz circuit for corresponding rotation angle\n",
    "# The variational form is (Rx,I)(CX)(H,I)\n",
    "def generate_ansatz(angle, basis):\n",
    "    #Circuit initialization\n",
    "    qc = QuantumCircuit(2,2)\n",
    "    #Apply parametric rotation\n",
    "    qc.h(0)\n",
    "    qc.cx(0,1)\n",
    "    qc.rx(angle,0)\n",
    "   \n",
    "    \n",
    "    \n",
    "    #Apply necessary pre-rotation for basis changing measurement\n",
    "    if basis == \"Z\":\n",
    "        pass\n",
    "    #Haramard gate diagozizes X\n",
    "    elif basis == \"X\":\n",
    "        qc.h(0)\n",
    "        qc.h(1)\n",
    "    #H sdag diagoizes Y\n",
    "    elif basis == \"Y\":\n",
    "        qc.sdg(0)\n",
    "        qc.sdg(1)\n",
    "        qc.h(0)\n",
    "        qc.h(1)\n",
    "    \n",
    "    qc.measure([0,1],[0,1])\n",
    "    return qc\n"
   ]
  },
  {
   "cell_type": "code",
   "execution_count": 7,
   "metadata": {},
   "outputs": [],
   "source": [
    "def get_energy(result_x, result_y, result_z, i):\n",
    "    \n",
    "    counts_x = result_x.get_counts(i)\n",
    "    counts_y = result_y.get_counts(i)\n",
    "    counts_z = result_z.get_counts(i)\n",
    "    \n",
    "    exp_x = get_exp(counts_x)\n",
    "    exp_y = get_exp(counts_y)\n",
    "    exp_z = get_exp(counts_z)\n",
    " \n",
    "    energy = 0.5 - 0.5 * exp_x - 0.5 * exp_y + 0.5 * exp_z\n",
    "    return energy\n",
    "    \n",
    "    "
   ]
  },
  {
   "cell_type": "code",
   "execution_count": 8,
   "metadata": {},
   "outputs": [],
   "source": [
    "def get_exp(counts):\n",
    "    total = counts.get('00',0) + counts.get('01',0) + counts.get('10',0) + counts.get('11',0)\n",
    "    exp = (counts.get('00',0) * 1 + counts.get('11',0) * 1 + counts.get('01',0) * (-1) + counts.get('10',0) * (-1)) / total\n",
    "    return exp"
   ]
  },
  {
   "cell_type": "code",
   "execution_count": 13,
   "metadata": {},
   "outputs": [
    {
     "name": "stdout",
     "output_type": "stream",
     "text": [
      "-0.999625\n"
     ]
    },
    {
     "data": {
      "image/png": "[encoded data removed]",
      "text/plain": [
       "<Figure size 432x288 with 1 Axes>"
      ]
     },
     "metadata": {
      "needs_background": "light"
     },
     "output_type": "display_data"
    }
   ],
   "source": [
    "angles = np.linspace(0, 2 * pi, 100)\n",
    "\n",
    "circ_list_X = []\n",
    "circ_list_Y = []\n",
    "circ_list_Z = []\n",
    "\n",
    "for a in angles:\n",
    "    circ_list_X.append(generate_ansatz(a, \"X\"))\n",
    "    circ_list_Y.append(generate_ansatz(a, \"Y\"))\n",
    "    circ_list_Z.append(generate_ansatz(a, \"Z\"))\n",
    "\n",
    "backend = Aer.get_backend('qasm_simulator')\n",
    "\n",
    "job_X = execute(circ_list_X, backend = backend, shots = 8000)\n",
    "job_Y = execute(circ_list_Y, backend = backend, shots = 8000)\n",
    "job_Z = execute(circ_list_Z, backend = backend, shots = 8000)\n",
    "\n",
    "result_X = job_X.result()\n",
    "result_Y = job_Y.result()\n",
    "result_Z = job_Z.result()\n",
    "\n",
    "energies = []\n",
    "for i in range(len(angles)):\n",
    "    energies.append(get_energy(result_X, result_Y, result_Z, i))\n",
    "plt.plot(angles, energies)\n",
    "print(min(energies))"
   ]
  },
  {
   "cell_type": "code",
   "execution_count": null,
   "metadata": {},
   "outputs": [],
   "source": []
  }
 ],
 "metadata": {
  "kernelspec": {
   "display_name": "Python 3",
   "language": "python",
   "name": "python3"
  },
  "language_info": {
   "codemirror_mode": {
    "name": "ipython",
    "version": 3
   },
   "file_extension": ".py",
   "mimetype": "text/x-python",
   "name": "python",
   "nbconvert_exporter": "python",
   "pygments_lexer": "ipython3",
   "version": "3.7.6"
  }
 },
 "nbformat": 4,
 "nbformat_minor": 2
}
